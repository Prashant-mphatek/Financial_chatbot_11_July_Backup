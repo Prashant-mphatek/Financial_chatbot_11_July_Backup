{
 "cells": [
  {
   "cell_type": "code",
   "execution_count": 1,
   "id": "761927b8",
   "metadata": {},
   "outputs": [],
   "source": [
    "# Simple RAG System for Ancient Greece Q&A\n",
    "\n",
    "import os\n",
    "import re\n",
    "from pathlib import Path\n",
    "from langchain_community.document_loaders import TextLoader, DirectoryLoader\n",
    "from langchain_huggingface import HuggingFaceEmbeddings\n",
    "from langchain_milvus import Milvus\n",
    "from langchain_ollama import ChatOllama\n",
    "from langchain_core.prompts import PromptTemplate\n",
    "from langchain_core.runnables import RunnablePassthrough\n",
    "from langchain_core.output_parsers import StrOutputParser\n",
    "from langchain.text_splitter import RecursiveCharacterTextSplitter\n",
    "from pymilvus import connections"
   ]
  },
  {
   "cell_type": "code",
   "execution_count": null,
   "id": "d2c7a980",
   "metadata": {},
   "outputs": [],
   "source": [
    "# Configuration\n",
    "DATA_DIR = \"/mnt/d/M-Bank/Ancient Greece QA Chatbot/ancient_greece_data_omnispay\"\n",
    "CHUNK_SIZE = 800\n",
    "CHUNK_OVERLAP = 100\n",
    "RETRIEVAL_K = 4\n",
    "EMBEDDING_MODEL = \"BAAI/bge-base-en-v1.5\"\n",
    "LLM_MODEL = \"llama3.2\"\n",
    "LLM_BASE_URL = \"http://localhost:11434\"\n",
    "MILVUS_HOST = \"127.0.0.1\"\n",
    "MILVUS_PORT = \"19530\"\n",
    "COLLECTION_NAME = \"BankingRAGCollection_Omnispay\""
   ]
  },
  {
   "cell_type": "code",
   "execution_count": 5,
   "id": "5edde8f8",
   "metadata": {},
   "outputs": [
    {
     "name": "stdout",
     "output_type": "stream",
     "text": [
      "Loading documents...\n",
      "Loaded 1 documents\n"
     ]
    }
   ],
   "source": [
    "# Step 1: Load Documents\n",
    "print(\"Loading documents...\")\n",
    "loader = DirectoryLoader(\n",
    "    DATA_DIR,\n",
    "    glob='**/*.txt',\n",
    "    loader_cls=TextLoader\n",
    ")\n",
    "docs = loader.load()\n",
    "print(f\"Loaded {len(docs)} documents\")"
   ]
  },
  {
   "cell_type": "code",
   "execution_count": 6,
   "id": "4291e16e",
   "metadata": {},
   "outputs": [
    {
     "name": "stdout",
     "output_type": "stream",
     "text": [
      "Splitting documents into chunks...\n",
      "Created 71 chunks\n"
     ]
    }
   ],
   "source": [
    "# Step 2: Split Documents into Chunks\n",
    "print(\"Splitting documents into chunks...\")\n",
    "text_splitter = RecursiveCharacterTextSplitter(\n",
    "    chunk_size=CHUNK_SIZE,\n",
    "    chunk_overlap=CHUNK_OVERLAP,\n",
    "    separators=[\"\\n\\n\", \"\\n\", \". \", \" \"]\n",
    ")\n",
    "chunks = text_splitter.split_documents(docs)\n",
    "print(f\"Created {len(chunks)} chunks\")"
   ]
  },
  {
   "cell_type": "code",
   "execution_count": 7,
   "id": "d8ca3bbf",
   "metadata": {},
   "outputs": [
    {
     "name": "stdout",
     "output_type": "stream",
     "text": [
      "Creating embeddings and vector store...\n"
     ]
    },
    {
     "name": "stderr",
     "output_type": "stream",
     "text": [
      "/mnt/d/M-Bank/banking_chatbot_env/lib/python3.13/site-packages/tqdm/auto.py:21: TqdmWarning: IProgress not found. Please update jupyter and ipywidgets. See https://ipywidgets.readthedocs.io/en/stable/user_install.html\n",
      "  from .autonotebook import tqdm as notebook_tqdm\n"
     ]
    },
    {
     "name": "stdout",
     "output_type": "stream",
     "text": [
      "Connecting to Milvus...\n"
     ]
    },
    {
     "name": "stderr",
     "output_type": "stream",
     "text": [
      "2025-07-07 07:44:21,153 [DEBUG][_create_connection]: Created new connection using: 303385e227124a138d90615a9bf12fc2 (async_milvus_client.py:599)\n"
     ]
    },
    {
     "name": "stdout",
     "output_type": "stream",
     "text": [
      "Milvus vector store created!\n"
     ]
    }
   ],
   "source": [
    "# Step 3: Create Embeddings and Vector Store\n",
    "print(\"Creating embeddings and vector store...\")\n",
    "embedding = HuggingFaceEmbeddings(\n",
    "    model_name=EMBEDDING_MODEL,\n",
    "    model_kwargs={\"device\": \"cpu\"},\n",
    "    encode_kwargs={\"normalize_embeddings\": True}\n",
    ")\n",
    "\n",
    "# Connect to Milvus\n",
    "print(\"Connecting to Milvus...\")\n",
    "connections.connect(host=MILVUS_HOST, port=MILVUS_PORT)\n",
    "\n",
    "# Create Milvus vector store\n",
    "vectorstore = Milvus.from_documents(\n",
    "    documents=chunks,\n",
    "    embedding=embedding,\n",
    "    connection_args={\"host\": MILVUS_HOST, \"port\": MILVUS_PORT},\n",
    "    collection_name=COLLECTION_NAME,\n",
    "    drop_old=True  # Remove existing collection if it exists\n",
    ")\n",
    "print(\"Milvus vector store created!\")"
   ]
  },
  {
   "cell_type": "code",
   "execution_count": 30,
   "id": "65977fe9",
   "metadata": {},
   "outputs": [
    {
     "name": "stdout",
     "output_type": "stream",
     "text": [
      "Connecting to LLM...\n"
     ]
    }
   ],
   "source": [
    "# Step 4: Initialize LLM\n",
    "print(\"Connecting to LLM...\")\n",
    "llm = ChatOllama(\n",
    "    model=LLM_MODEL,\n",
    "    base_url=LLM_BASE_URL,\n",
    "    temperature=0.1\n",
    ")"
   ]
  },
  {
   "cell_type": "code",
   "execution_count": 31,
   "id": "95f90b17",
   "metadata": {},
   "outputs": [],
   "source": [
    "# Step 5: Create Simple Retriever\n",
    "retriever = vectorstore.as_retriever(\n",
    "    search_type=\"similarity\",\n",
    "    search_kwargs={\"k\": RETRIEVAL_K}\n",
    ")"
   ]
  },
  {
   "cell_type": "code",
   "execution_count": 32,
   "id": "774360f6",
   "metadata": {},
   "outputs": [],
   "source": [
    "# Step 6: Create Prompt Template\n",
    "prompt_template = \"\"\"You are an expert on Finance . Answer the question using the provided context.\n",
    "\n",
    "Context:\n",
    "{context}\n",
    "\n",
    "Question: {question}\n",
    "\n",
    "Answer:\"\"\"\n",
    "\n",
    "prompt = PromptTemplate(\n",
    "    input_variables=[\"context\", \"question\"],\n",
    "    template=prompt_template\n",
    ")"
   ]
  },
  {
   "cell_type": "code",
   "execution_count": 33,
   "id": "6efc01af",
   "metadata": {},
   "outputs": [],
   "source": [
    "# Step 7: Format Context Function\n",
    "def format_docs(docs):\n",
    "    return \"\\n\\n\".join([doc.page_content for doc in docs])"
   ]
  },
  {
   "cell_type": "code",
   "execution_count": 34,
   "id": "c45608b9",
   "metadata": {},
   "outputs": [],
   "source": [
    "# Step 8: Build RAG Chain\n",
    "rag_chain = (\n",
    "    {\n",
    "        \"context\": retriever | format_docs,\n",
    "        \"question\": RunnablePassthrough()\n",
    "    }\n",
    "    | prompt\n",
    "    | llm\n",
    "    | StrOutputParser()\n",
    ")"
   ]
  },
  {
   "cell_type": "code",
   "execution_count": 35,
   "id": "4a89037a",
   "metadata": {},
   "outputs": [],
   "source": [
    "# Step 9: Question Answering Function\n",
    "def ask_question(question):\n",
    "    \"\"\"Ask a question and get an answer\"\"\"\n",
    "    print(f\"\\nQuestion: {question}\")\n",
    "    print(\"-\" * 50)\n",
    "    \n",
    "    try:\n",
    "        answer = rag_chain.invoke(question)\n",
    "        print(f\"Answer: {answer}\")\n",
    "        return answer\n",
    "    except Exception as e:\n",
    "        print(f\"Error: {e}\")\n",
    "        return None"
   ]
  },
  {
   "cell_type": "code",
   "execution_count": 39,
   "id": "7134b4b7",
   "metadata": {},
   "outputs": [
    {
     "name": "stdout",
     "output_type": "stream",
     "text": [
      "\n",
      "============================================================\n",
      "RAG SYSTEM READY!\n",
      "============================================================\n",
      "\n",
      "Testing the system...\n",
      "\n",
      "Question: what is interest rate on Savings Account\n",
      "--------------------------------------------------\n",
      "Answer: The interest rate on a Savings Account is 3.5% p.a.\n",
      "\n"
     ]
    }
   ],
   "source": [
    "# Step 10: Test the System\n",
    "print(\"\\n\" + \"=\"*60)\n",
    "print(\"RAG SYSTEM READY!\")\n",
    "print(\"=\"*60)\n",
    "\n",
    "# Test questions\n",
    "test_questions = [\n",
    "    \"what is interest rate on Savings Account\"\n",
    "]\n",
    "\n",
    "# Run tests\n",
    "print(\"\\nTesting the system...\")\n",
    "for question in test_questions:\n",
    "    ask_question(question)\n",
    "    print()\n"
   ]
  },
  {
   "cell_type": "code",
   "execution_count": null,
   "id": "7ea1aa1e",
   "metadata": {},
   "outputs": [],
   "source": [
    "# # Interactive mode function\n",
    "# def interactive_mode():\n",
    "#     \"\"\"Run interactive Q&A session\"\"\"\n",
    "#     print(\"\\nInteractive Mode - Type 'quit' to exit\")\n",
    "#     print(\"-\" * 40)\n",
    "    \n",
    "#     while True:\n",
    "#         question = input(\"\\nYour question: \").strip()\n",
    "#         if question.lower() in ['quit', 'exit', 'q']:\n",
    "#             print(\"Goodbye!\")\n",
    "#             break\n",
    "#         if question:\n",
    "#             ask_question(question)"
   ]
  },
  {
   "cell_type": "code",
   "execution_count": null,
   "id": "6650d54d",
   "metadata": {},
   "outputs": [],
   "source": [
    "# # Save/Load functions for Milvus (optional)\n",
    "# def get_existing_vectorstore():\n",
    "#     \"\"\"Load existing Milvus collection if it exists\"\"\"\n",
    "#     try:\n",
    "#         connections.connect(host=MILVUS_HOST, port=MILVUS_PORT)\n",
    "        \n",
    "#         embedding = HuggingFaceEmbeddings(\n",
    "#             model_name=EMBEDDING_MODEL,\n",
    "#             model_kwargs={\"device\": \"cpu\"},\n",
    "#             encode_kwargs={\"normalize_embeddings\": True}\n",
    "#         )\n",
    "        \n",
    "#         vectorstore = Milvus(\n",
    "#             embedding_function=embedding,\n",
    "#             connection_args={\"host\": MILVUS_HOST, \"port\": MILVUS_PORT},\n",
    "#             collection_name=COLLECTION_NAME\n",
    "#         )\n",
    "        \n",
    "#         print(\"Loaded existing Milvus collection!\")\n",
    "#         return vectorstore\n",
    "        \n",
    "#     except Exception as e:\n",
    "#         print(f\"Could not load existing collection: {e}\")\n",
    "#         return None"
   ]
  }
 ],
 "metadata": {
  "kernelspec": {
   "display_name": "banking_chatbot_env",
   "language": "python",
   "name": "python3"
  },
  "language_info": {
   "codemirror_mode": {
    "name": "ipython",
    "version": 3
   },
   "file_extension": ".py",
   "mimetype": "text/x-python",
   "name": "python",
   "nbconvert_exporter": "python",
   "pygments_lexer": "ipython3",
   "version": "3.13.2"
  }
 },
 "nbformat": 4,
 "nbformat_minor": 5
}
